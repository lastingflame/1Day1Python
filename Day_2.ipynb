{
  "nbformat": 4,
  "nbformat_minor": 0,
  "metadata": {
    "colab": {
      "name": "Day_2",
      "provenance": [],
      "authorship_tag": "ABX9TyOn2Ce2OjCXiOl5VhOKvQR0",
      "include_colab_link": true
    },
    "kernelspec": {
      "name": "python3",
      "display_name": "Python 3"
    }
  },
  "cells": [
    {
      "cell_type": "markdown",
      "metadata": {
        "id": "view-in-github",
        "colab_type": "text"
      },
      "source": [
        "<a href=\"https://colab.research.google.com/github/lastingflame/1Day1Python/blob/master/Day_2.ipynb\" target=\"_parent\"><img src=\"https://colab.research.google.com/assets/colab-badge.svg\" alt=\"Open In Colab\"/></a>"
      ]
    },
    {
      "cell_type": "markdown",
      "metadata": {
        "id": "pUhPZIn9c4fY",
        "colab_type": "text"
      },
      "source": [
        "# Chapter 6. Operators and Expressions\n",
        "\n",
        "Most statements (logical lines) that you write will contain *expressions*. A simple example\n",
        "of an expression is `2 + 3`. An expression can be broken down into operators and\n",
        "operands.\n",
        "\n",
        "\n",
        "*Operators* are functionality that do something and can be represented by symbols such\n",
        "as `+` or by special keywords. Operators require some data to operate on and such\n",
        "data is called *operands*. In this case, `2` and `3` are the operands."
      ]
    },
    {
      "cell_type": "markdown",
      "metadata": {
        "id": "-uQG7kfJdM_E",
        "colab_type": "text"
      },
      "source": [
        "## 6.1 Operators\n",
        "\n",
        "We will briefly take a look at the operators and their usage.\n",
        "\n",
        "Note that you can evaluate the expressions given in the examples using the interpreter\n",
        "interactively. For example, to test the expression `2 + 3` , use the interactive Python\n",
        "interpreter prompt:"
      ]
    },
    {
      "cell_type": "code",
      "metadata": {
        "id": "IAjkxCoGdT_W",
        "colab_type": "code",
        "outputId": "4de259c6-08c7-4b20-e1af-f6f4472e0129",
        "colab": {
          "base_uri": "https://localhost:8080/",
          "height": 35
        }
      },
      "source": [
        "2+3"
      ],
      "execution_count": 0,
      "outputs": [
        {
          "output_type": "execute_result",
          "data": {
            "text/plain": [
              "5"
            ]
          },
          "metadata": {
            "tags": []
          },
          "execution_count": 2
        }
      ]
    },
    {
      "cell_type": "code",
      "metadata": {
        "id": "tVIUqjIVdbH5",
        "colab_type": "code",
        "outputId": "2d0e6080-1cad-4cd1-8b7c-89097c23d959",
        "colab": {
          "base_uri": "https://localhost:8080/",
          "height": 35
        }
      },
      "source": [
        "3*5"
      ],
      "execution_count": 0,
      "outputs": [
        {
          "output_type": "execute_result",
          "data": {
            "text/plain": [
              "15"
            ]
          },
          "metadata": {
            "tags": []
          },
          "execution_count": 3
        }
      ]
    },
    {
      "cell_type": "markdown",
      "metadata": {
        "id": "UsjmyVbldhql",
        "colab_type": "text"
      },
      "source": [
        "Here is a quick overview of the available operators:\n",
        "\n",
        "> `+` (plus)\n",
        ">\n",
        "> Adds two objects\n",
        ">\n",
        "> `3 + 5` gives `8` . `'a' + 'b'` gives `'ab'` .\n",
        "\n",
        "\n",
        "> `-` (minus)\n",
        ">\n",
        "> Gives the subtraction of one number from the other; if the first operand is absent\n",
        "it is assumed to be zero.\n",
        ">\n",
        "> `-5.2` gives a negative number and `50 - 24` gives `26` .\n",
        ">\n",
        "> `*` (multiply)\n",
        ">\n",
        "> Gives the multiplication of the two numbers or returns the string repeated that many\n",
        "times.\n",
        ">\n",
        "> `2 * 3` gives `6` . `'la' * 3` gives `'lalala'` .\n",
        ">\n",
        "> `**` (power)\n",
        ">\n",
        "> Returns x to the power of y\n",
        ">\n",
        "> `3 ** 4` gives `81` (i.e. `3 * 3 * 3 * 3` )\n",
        ">\n",
        "> `/` (devide)\n",
        ">\n",
        "> Divide x by y\n",
        "> \n",
        "> `13 / 3` gives `4` . `13.0 / 3` gives `4.333333333333333`\n",
        ">\n",
        ">\n",
        ">\n",
        ">\n",
        ">\n",
        ">\n",
        ">\n",
        ">\n",
        ">\n",
        ">\n",
        ">\n",
        ">\n",
        ">\n",
        ">\n",
        ">\n",
        ">\n",
        ">\n",
        ">\n",
        ">\n",
        ">\n",
        ">\n"
      ]
    },
    {
      "cell_type": "code",
      "metadata": {
        "id": "nngISwRCdctV",
        "colab_type": "code",
        "colab": {}
      },
      "source": [
        ""
      ],
      "execution_count": 0,
      "outputs": []
    }
  ]
}