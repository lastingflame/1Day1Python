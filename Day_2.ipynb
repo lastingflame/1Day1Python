{
  "nbformat": 4,
  "nbformat_minor": 0,
  "metadata": {
    "colab": {
      "name": "Day_2",
      "provenance": [],
      "authorship_tag": "ABX9TyPewcVADvomVY8Gz2+kRmlI",
      "include_colab_link": true
    },
    "kernelspec": {
      "name": "python3",
      "display_name": "Python 3"
    }
  },
  "cells": [
    {
      "cell_type": "markdown",
      "metadata": {
        "id": "view-in-github",
        "colab_type": "text"
      },
      "source": [
        "<a href=\"https://colab.research.google.com/github/lastingflame/1Day1Python/blob/master/Day_2.ipynb\" target=\"_parent\"><img src=\"https://colab.research.google.com/assets/colab-badge.svg\" alt=\"Open In Colab\"/></a>"
      ]
    },
    {
      "cell_type": "markdown",
      "metadata": {
        "id": "pUhPZIn9c4fY",
        "colab_type": "text"
      },
      "source": [
        "# Chapter 6. Operators and Expressions\n",
        "\n",
        "Most statements (logical lines) that you write will contain *expressions*. A simple example\n",
        "of an expression is `2 + 3`. An expression can be broken down into operators and\n",
        "operands.\n",
        "\n",
        "\n",
        "*Operators* are functionality that do something and can be represented by symbols such\n",
        "as `+` or by special keywords. Operators require some data to operate on and such\n",
        "data is called *operands*. In this case, `2` and `3` are the operands."
      ]
    },
    {
      "cell_type": "markdown",
      "metadata": {
        "id": "-uQG7kfJdM_E",
        "colab_type": "text"
      },
      "source": [
        "## 6.1 Operators\n",
        "\n",
        "We will briefly take a look at the operators and their usage.\n",
        "\n",
        "Note that you can evaluate the expressions given in the examples using the interpreter\n",
        "interactively. For example, to test the expression `2 + 3` , use the interactive Python\n",
        "interpreter prompt:"
      ]
    },
    {
      "cell_type": "code",
      "metadata": {
        "id": "IAjkxCoGdT_W",
        "colab_type": "code",
        "outputId": "4de259c6-08c7-4b20-e1af-f6f4472e0129",
        "colab": {
          "base_uri": "https://localhost:8080/",
          "height": 35
        }
      },
      "source": [
        "2+3"
      ],
      "execution_count": 0,
      "outputs": [
        {
          "output_type": "execute_result",
          "data": {
            "text/plain": [
              "5"
            ]
          },
          "metadata": {
            "tags": []
          },
          "execution_count": 2
        }
      ]
    },
    {
      "cell_type": "code",
      "metadata": {
        "id": "tVIUqjIVdbH5",
        "colab_type": "code",
        "outputId": "2d0e6080-1cad-4cd1-8b7c-89097c23d959",
        "colab": {
          "base_uri": "https://localhost:8080/",
          "height": 35
        }
      },
      "source": [
        "3*5"
      ],
      "execution_count": 0,
      "outputs": [
        {
          "output_type": "execute_result",
          "data": {
            "text/plain": [
              "15"
            ]
          },
          "metadata": {
            "tags": []
          },
          "execution_count": 3
        }
      ]
    },
    {
      "cell_type": "markdown",
      "metadata": {
        "id": "UsjmyVbldhql",
        "colab_type": "text"
      },
      "source": [
        "Here is a quick overview of the available operators:\n",
        "\n",
        "> `+` (plus)\n",
        ">\n",
        "> Adds two objects\n",
        ">\n",
        "> `3 + 5` gives `8` . `'a' + 'b'` gives `'ab'` .\n",
        "\n",
        "\n",
        "> `-` (minus)\n",
        ">\n",
        "> Gives the subtraction of one number from the other; if the first operand is absent\n",
        "it is assumed to be zero.\n",
        ">\n",
        "> `-5.2` gives a negative number and `50 - 24` gives `26` .\n",
        ">\n",
        "> `*` (multiply)\n",
        ">\n",
        "> Gives the multiplication of the two numbers or returns the string repeated that many\n",
        "times.\n",
        ">\n",
        "> `2 * 3` gives `6` . `'la' * 3` gives `'lalala'` .\n",
        ">\n",
        "> `**` (power)\n",
        ">\n",
        "> Returns x to the power of y\n",
        ">\n",
        "> `3 ** 4` gives `81` (i.e. `3 * 3 * 3 * 3` )\n",
        ">\n",
        "> `/` (devide)\n",
        ">\n",
        "> Divide x by y\n",
        "> \n",
        "> `13 / 3` gives `4` . `13.0 / 3` gives `4.333333333333333`\n",
        ">\n",
        "> `%` (modulo)\n",
        ">\n",
        "> Returns the remainder of the division\n",
        ">\n",
        "> `13 % 3` gives `1`. `-25.5 % 2.25 ` gives `1.5`.\n",
        ">\n",
        "> `<<` (left shift)\n",
        ">\n",
        "> Shifts the bits of the number to the left by the number of bits specified. (Each number is represented in memory by bits or binary digits i.e. 0 and 1)\n",
        ">\n",
        "> `2 << 2` gives `8`. `2` is represented by `10` in bits.\n",
        ">\n",
        "> Left shifting by 2 bits gives `1000` which represents the decimal `8`.\n",
        ">\n",
        "> `>>` (right shift)\n",
        ">\n",
        "> Shifts the bits of the number to the right by the number of bits specified.\n",
        ">\n",
        "> `11 >> 1` gives `5`.\n",
        ">\n",
        "> `11` is represented in bits by `1011` which when right shifted by 1 bit gives `101` which is the decimal `5`\n",
        ">\n",
        "> `&` (bit-wise AND)\n",
        ">\n",
        "> Bit-wise AND of the numbers\n",
        ">\n",
        "> `5 & 3` gives `1`.\n",
        ">\n",
        "> `|` (bit-wise OR)\n",
        ">\n",
        "> Bitwise OR of the numbers\n",
        ">\n",
        "> `5 | 3` gives `7`\n",
        ">\n",
        "> `^` (bit-wise XOR)\n",
        ">\n",
        "> Bitwise XOR of the numbers\n",
        ">\n",
        "> `5 ^ 3` gives `6`\n",
        ">\n",
        "> `~` (bit-wise invert)\n",
        ">\n",
        "> The bit-wise inversion of x is -(x+1)\n",
        ">\n",
        "> `~5` gives `-6`. More details at http://stackoverflow.com/a/11810203\n",
        ">\n",
        "> `<` (less than)\n",
        ">\n",
        "> Returns wheter x is less than y. All comparison operators return `True` or `False`. Note the capitalization of these names.\n",
        ">\n",
        "> `5 < 3` gives `False` and `3 < 5` gives `True`.\n",
        ">\n",
        "> Comparisons can be chained arbitrarily: `3 < 5 < 7` fives `True`.\n",
        ">\n",
        "> `>` (greater than)\n",
        ">\n",
        "> Returns whether x is greater than y\n",
        ">\n",
        "> `5 > 3` returns `True`. If both operands are numbers, theyy are first converted to a common type. Otherwise, it always returns `False`.\n",
        ">\n",
        "> `#` (less than or equal to)\n",
        ">\n",
        "> Returns whether x is less than or equal to y\n",
        ">\n",
        "> `x = 3; y = 6; x # y` returns `True`.\n",
        ">\n",
        "> `>=` (greater than or equal to)\n",
        ">\n",
        "> `x = 4; y = 3; x >= 3` returns `True`.\n",
        ">\n",
        "> `==` (equal to)\n",
        ">\n",
        "> Compares if the objects are equal\n",
        ">\n",
        "> `x = 2; y = 2; x == y` returns `True`.\n",
        ">\n",
        "> `x = 'str'; y = 'stR'; x == y` returns `False`.\n",
        ">\n",
        "> `x = 'str'; y = 'str'; x == y` returns 'True`.\n",
        ">\n",
        "> `!=` (not equal to)\n",
        ">\n",
        "> Compares if the objects are not equal\n",
        ">\n",
        "> `x = 2; y = 3; x !=y` returns `True`.\n",
        ">\n",
        "> `not` (boolean NOT)\n",
        ">\n",
        "> if x is `True`, it returns `False`. If x is `False`, it returns `True`.\n",
        ">\n",
        "> `X = True; not x` returns `False`.\n",
        ">\n",
        "> `and` (boolean AND)\n",
        ">\n",
        "> `x and y` returns `False` if x is `False`, else it returns evaluation of y\n",
        ">\n",
        "> `x = False; y = True; x and y` returns `False` since x is False. In this case, Python will not evaluate y since it knows that the left hand side of the 'and' expression is `False` which implies that the whole expression will be `False` irrespective of the other values. This is called short-circuit evaluation.\n",
        ">\n",
        "> `or` (boolean OR)\n",
        ">\n",
        "> If x is `True`, it returns True, else it returns evaluation of y\n",
        ">\n",
        "> `x = True; y = False; x or y` returns `True`. Short-circuit evaluation applies here as well.\n",
        "\n",
        "\n"
      ]
    },
    {
      "cell_type": "markdown",
      "metadata": {
        "id": "aMeGlAwD33TO",
        "colab_type": "text"
      },
      "source": [
        "## 6.2. Shortcut for math operation and assignment\n",
        "\n",
        "It is common to run a math operation on a variable and then assign the result of the operation back to the variable, hence there is a shortcut for such expressions:"
      ]
    },
    {
      "cell_type": "code",
      "metadata": {
        "id": "nngISwRCdctV",
        "colab_type": "code",
        "colab": {}
      },
      "source": [
        "a = 2\n",
        "a = a * 3"
      ],
      "execution_count": 0,
      "outputs": []
    },
    {
      "cell_type": "markdown",
      "metadata": {
        "id": "h3Yjdi-E4O-N",
        "colab_type": "text"
      },
      "source": [
        "can be written as:"
      ]
    },
    {
      "cell_type": "code",
      "metadata": {
        "id": "3YpMBdCC4RTu",
        "colab_type": "code",
        "colab": {}
      },
      "source": [
        "a = 2\n",
        "a *= 3"
      ],
      "execution_count": 0,
      "outputs": []
    },
    {
      "cell_type": "markdown",
      "metadata": {
        "id": "j3SqLAER4UDc",
        "colab_type": "text"
      },
      "source": [
        "Notice that `var = var operation expression` becomes `var operation = expression`"
      ]
    },
    {
      "cell_type": "markdown",
      "metadata": {
        "id": "bYX2kvuV4hAT",
        "colab_type": "text"
      },
      "source": [
        "## 6.3 Evaluation Order.\n",
        "\n",
        "If you had an expression such as `2 + 2 *4`, is the addition done first or the multiplication? Our high school maths tells us that the multiplication should be done first. This means that the multiplication operator has higher precedence than the addition operator.\n",
        "\n",
        "The following table gives the precedence table for Python, from the lowest precedence (least binding) to the highest precedence (most binding). This means that in a given expression, Python will first evaluate the operators and expressions lower in the table before the ones listed higher in tha table.\n",
        "\n",
        "The following table, taken from the  [Python reference manual](http://docs.python.org/3/reference/expressions.html#operator-precedence), is provided for the sake of completeness. It is far better to use parantheses to group operators and operands appropriately in order to explicitly specify the precedence. This makes the program more readable. See Changing the Order of Evaluation below for details\n",
        "\n",
        ">`lambda`\n",
        "> Lambda Expression\n",
        ">\n",
        "> `if - else`\n",
        "> Conditional expression\n",
        ">\n",
        ">`or`\n",
        ">Boolean OR\n",
        ">\n",
        ">`and`\n",
        ">Boolean AND\n",
        ">\n",
        ">`not x`\n",
        ">Boolean NOT\n",
        ">\n",
        ">`in, not in, is, is not, <, #, >, >=, !=, ==`\n",
        ">Comparisons, including membership tests and identity tests\n",
        ">\n",
        ">`|`\n",
        ">Bitwise OR\n",
        ">\n",
        ">`^`\n",
        ">Bitwise XOR\n",
        ">\n",
        ">`&`\n",
        ">Bitwise AND\n",
        ">\n",
        ">`<<, >>`\n",
        ">Shifts\n",
        ">\n",
        ">`+, -`\n",
        ">Addition and subtraction\n",
        ">\n",
        ">`*, /, //, %`\n",
        ">Multiplication, Division, Floor Division and Remainder\n",
        ">\n",
        ">`+x, -x, ~x`\n",
        ">Positive, Negative, bitwise NOT\n",
        ">\n",
        ">`**`\n",
        ">Exponentiation\n",
        ">\n",
        ">`x[index], x[index:index], x(arguments…), x.attribute`\n",
        ">Subscription, slicing, call, attribute reference\n",
        ">\n",
        ">`(expressions…), [expressions…], {key: value…}, {expressions…}`\n",
        ">Binding or tuple display, list display, dictionary display, set display\n",
        "\n",
        "The operators which we have not already come across will be explained in later chapters.\n",
        "\n",
        "Operatios with the *same precedence* are listed same row in the above table. For example, `+` and `-` have the same precedence."
      ]
    },
    {
      "cell_type": "markdown",
      "metadata": {
        "id": "OnY26B6U64uU",
        "colab_type": "text"
      },
      "source": [
        "## 6.4. Changing the Order Of Evaluation\n",
        "\n",
        "To make the expressions more readable, we cen use parentheses. For example, `2 + ( 3* 4)` is definitely easier to understand than `2 + 3 * 4` which requires knowlege of the operator precedences. As with everything else, the parentheses should be used reasonably (do not overdo it) and should not be redundant, as in `(2 + (3 * 4))`.\n",
        "\n",
        "There is an additional advantage to using parentheses - it helps us to change the order of evaluation. For example, if you want addition to be evaluated before multiplication in an expression, then you can write something like `(2+3) * 4`."
      ]
    },
    {
      "cell_type": "markdown",
      "metadata": {
        "id": "FRztNa5u7lUX",
        "colab_type": "text"
      },
      "source": [
        "## 6.5. Associativity\n",
        "\n",
        "Operators are usually associated from left to right. This menas that operators with the same precendence are evaluated in a left to right manner. For exmaple, `2 + 3 + 4` is evaulated as `(2 + 3) + 4`. Some operators like assignment operators have right to left associativity i.e. `a = b = c` is treated as ` a = ( b = c)`."
      ]
    },
    {
      "cell_type": "markdown",
      "metadata": {
        "id": "wJPoH-Rb8AKD",
        "colab_type": "text"
      },
      "source": [
        "## 6.6 Expressions\n",
        "\n",
        "Example:"
      ]
    },
    {
      "cell_type": "code",
      "metadata": {
        "id": "MhyS8jOs8E6y",
        "colab_type": "code",
        "colab": {
          "base_uri": "https://localhost:8080/",
          "height": 53
        },
        "outputId": "d57a8875-ea5d-4e25-cae4-e2cafc58e2a3"
      },
      "source": [
        "length = 5\n",
        "breadth = 2\n",
        "area = length * breadth\n",
        "print('Area is', area)\n",
        "print('Perimeter is', 2* (length + breadth))"
      ],
      "execution_count": 1,
      "outputs": [
        {
          "output_type": "stream",
          "text": [
            "Area is 10\n",
            "Perimeter is 14\n"
          ],
          "name": "stdout"
        }
      ]
    },
    {
      "cell_type": "markdown",
      "metadata": {
        "id": "OxJghbLK8Yte",
        "colab_type": "text"
      },
      "source": [
        "####How It Works \n",
        "\n",
        "The length and breadth of the rectangle are stored in variables by the\n",
        "same name. We use these to calculate the area and perimeter of the rectangle with the\n",
        "help of expressions. We store the result of the expression `length * breadth` in the\n",
        "variable area and then print it using the print function. In the second case, we directly\n",
        "use the value of the expression `2 * (length + breadth)` in the print statement.\n",
        "\n",
        "\n",
        "Also, notice how Python *pretty-prints* the output. Even though we have not specified\n",
        "a space between 'Area is' and the variable area , Python puts it for us so that\n",
        "we get a clean nice output and the program is much more readable this way (since we\n",
        "don’t need to worry about spacing in the strings we use for output). This is an example\n",
        "of how Python makes life easy for the programmer."
      ]
    },
    {
      "cell_type": "markdown",
      "metadata": {
        "id": "yaeto8R28vjY",
        "colab_type": "text"
      },
      "source": [
        "# 6.7 Summary\n",
        "\n",
        "We have seen how to use operators, operands and expressions - these are the basic\n",
        "building blocks of any program. Next, we will see how to make use of these in our\n",
        "programs using statements"
      ]
    }
  ]
}