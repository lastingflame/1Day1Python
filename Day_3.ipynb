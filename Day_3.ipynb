{
  "nbformat": 4,
  "nbformat_minor": 0,
  "metadata": {
    "colab": {
      "name": "Day_3.ipynb",
      "provenance": [],
      "authorship_tag": "ABX9TyPds1fDdQUxCHFWEBvqEcrD",
      "include_colab_link": true
    },
    "kernelspec": {
      "name": "python3",
      "display_name": "Python 3"
    }
  },
  "cells": [
    {
      "cell_type": "markdown",
      "metadata": {
        "id": "view-in-github",
        "colab_type": "text"
      },
      "source": [
        "<a href=\"https://colab.research.google.com/github/lastingflame/1Day1Python/blob/master/Day_3.ipynb\" target=\"_parent\"><img src=\"https://colab.research.google.com/assets/colab-badge.svg\" alt=\"Open In Colab\"/></a>"
      ]
    },
    {
      "cell_type": "markdown",
      "metadata": {
        "id": "BqV8g7lcNahg",
        "colab_type": "text"
      },
      "source": [
        "# Chapter 7. Control Flow\n",
        "\n",
        "In the programs we have seen till now, there has always been a series of statements\n",
        "faithfully executed by Python in exact top-down order. What if you wanted to change the\n",
        "flow of how it works? For example, you want the program to take some decisions and\n",
        "do different things depending on different situations, such as printing 'Good Morning'\n",
        "or 'Good Evening' depending on the time of the day?\n",
        "\n",
        "As you might have guessed, this is achieved using control flow statements. There are\n",
        "three control flow statements in Python - if, for and while.\n"
      ]
    },
    {
      "cell_type": "markdown",
      "metadata": {
        "id": "S0Srxg0nNndr",
        "colab_type": "text"
      },
      "source": [
        "## 7.1 The if statement\n",
        "\n",
        "The if statement is used to check a condition: **if** the condition is true, we run a block of\n",
        "statements (called the *if-block*), **else** we process another block of statements (called\n",
        "the else-block). The **else** clause is optional.\n",
        "Example:"
      ]
    },
    {
      "cell_type": "code",
      "metadata": {
        "id": "qzUTgz7uN0O_",
        "colab_type": "code",
        "outputId": "56fd129a-d35f-4b45-a6ab-3817a32ba24f",
        "colab": {
          "base_uri": "https://localhost:8080/",
          "height": 71
        }
      },
      "source": [
        "number = 23\n",
        "guess = int(input('Enter an integer: '))   # raw_input in python 2.x; input in python 3.x\n",
        "\n",
        "if guess == number:\n",
        "    # new block starts here\n",
        "    print('Congratulations, you guessed it.')\n",
        "    print('(but you do not win any prizes!')\n",
        "    # new block ends here\n",
        "elif guess < number:\n",
        "    # another block\n",
        "    print('No, it is a little higher than that')\n",
        "else:\n",
        "    print('No, it is a litter lower than that')\n",
        "\n",
        "print('Done')\n",
        "# This last statement is always executed,\n",
        "# after the if statement is executed."
      ],
      "execution_count": 0,
      "outputs": [
        {
          "output_type": "stream",
          "text": [
            "Enter an integer: 35\n",
            "No, it is a litter lower than that\n",
            "Done\n"
          ],
          "name": "stdout"
        }
      ]
    },
    {
      "cell_type": "markdown",
      "metadata": {
        "id": "uB6x3mB9O5Ug",
        "colab_type": "text"
      },
      "source": [
        "#### How It Works\n",
        "\n",
        "In this program, we take guesses from the user and check if it is the\n",
        "number that we have. We set the variable number to any integer we want, say `23` .\n",
        "Then, we take the user’s guess using the `input()` function. Functions are just\n",
        "reusable pieces of programs. We’ll read more about them in the next chapter.\n",
        "\n",
        "We supply a string to the built-in `input` function which prints it to the screen\n",
        "and waits for input from the user. Once we **enter** something and press enter key, the\n",
        "`input()` function returns what we entered, as a string. We then convert this\n",
        "string to an integer using `int` and then store it in the variable `guess` . Actually, the\n",
        "`int` is a class but all you need to know right now is that you can use it to convert a\n",
        "string to an integer (assuming the string contains a valid integer in the text).\n",
        "\n",
        "Next, we compare the guess of the user with the number we have chosen. If they\n",
        "are equal, we print a success message. Notice that we use indentation levels to tell\n",
        "Python which statements belong to which block. This is why indentation is so important\n",
        "in Python. I hope you are sticking to the \"consistent indentation\" rule. Are you?\n",
        "\n",
        "Notice how the `if` statement contains a colon at the end - we are indicating to Python\n",
        "that a block of statements follows.\n",
        "\n",
        "Then, we check if the guess is less than the number, and if so, we inform the user\n",
        "that they must guess a little higher than that. What we have used here is the `elif`\n",
        "clause which actually combines two related `if else-if else` statements into one\n",
        "combined `if-elif-else` statement. This makes the program easier and reduces\n",
        "the amount of indentation required.\n",
        "\n",
        "The `elif` and `else` statements must also have a colon at the end of the logical line\n",
        "followed by their corresponding block of statements (with proper indentation, of course)\n",
        "\n",
        "You can have another `if` statement inside the if-block of an `if` statement and so on\n",
        "- this is called a nested `if` statement.\n",
        "\n",
        "Remember that the `elif` and `else` parts are optional. A minimal valid `if` statement\n",
        "is:"
      ]
    },
    {
      "cell_type": "code",
      "metadata": {
        "id": "5vtuFR-AQTsz",
        "colab_type": "code",
        "outputId": "7eaf4d8f-ea13-4bb9-d756-6ca420f8353f",
        "colab": {
          "base_uri": "https://localhost:8080/",
          "height": 35
        }
      },
      "source": [
        "if True:\n",
        "   print('Yes, it is True')"
      ],
      "execution_count": 1,
      "outputs": [
        {
          "output_type": "stream",
          "text": [
            "Yes, it is True\n"
          ],
          "name": "stdout"
        }
      ]
    },
    {
      "cell_type": "markdown",
      "metadata": {
        "id": "vHYIA0xqQYHp",
        "colab_type": "text"
      },
      "source": [
        "After Python has finished executing the complete `if` statement along with the\n",
        "associated `elif` and `else` clauses, it moves on to the next statement in the block\n",
        "containing the `if` statement. In this case, it is the main block (where execution of the\n",
        "program starts), and the next statement is the `print 'Done'` statement. After this,\n",
        "Python sees the ends of the program and simply finishes up.\n",
        "\n",
        "Even though this is a very simple program, I have been pointing out a lot of things that\n",
        "you should notice. All these are pretty straightforward (and surprisingly simple for those\n",
        "of you from C/C++ backgrounds). You will need to become aware of all these things\n",
        "initially, but after some practice you will become comfortable with them, and it will all\n",
        "feel 'natural' to you.\n",
        "\n",
        "### Note for C/C++ Programmers\n",
        "\n",
        "There is no `switch` statement in Python. You can use an\n",
        "`if..elif..else` statement to do the same thing (and in some\n",
        "cases, use a dictionary to do it quickly\n"
      ]
    },
    {
      "cell_type": "markdown",
      "metadata": {
        "id": "M9Bo9ZLMhY7i",
        "colab_type": "text"
      },
      "source": [
        "## 7.2. The while Statement\n",
        "\n",
        "The `while` statement allows you to repeatedly execute a block of statements as long\n",
        "as a condition is true. A `while` statement is an example of what is called a **looping**\n",
        "statement. A `while` statement can have an optional `else` clause."
      ]
    },
    {
      "cell_type": "code",
      "metadata": {
        "id": "9bTP16ashlR_",
        "colab_type": "code",
        "colab": {
          "base_uri": "https://localhost:8080/",
          "height": 161
        },
        "outputId": "73e38a98-55b1-4ae4-d5be-1d9376d8fe3f"
      },
      "source": [
        "number = 23\n",
        "running = True\n",
        "while running:\n",
        "    guess = int(input('Enter an integer : '))\n",
        "    if guess == number:\n",
        "        print('Congratulations, you guessed it.')\n",
        "    # this causes the while loop to stop\n",
        "        running = False\n",
        "    elif guess < number:\n",
        "        print('No, it is a little higher than that.')\n",
        "    else:\n",
        "        print('No, it is a little lower than that.')\n",
        "else:\n",
        "    print('The while loop is over.')\n",
        "# Do anything else you want to do here\n",
        "    print('Done')"
      ],
      "execution_count": 6,
      "outputs": [
        {
          "output_type": "stream",
          "text": [
            "Enter an integer : 20\n",
            "No, it is a little higher than that.\n",
            "Enter an integer : 25\n",
            "No, it is a little lower than that.\n",
            "Enter an integer : 23\n",
            "Congratulations, you guessed it.\n",
            "The while loop is over.\n",
            "Done\n"
          ],
          "name": "stdout"
        }
      ]
    },
    {
      "cell_type": "markdown",
      "metadata": {
        "id": "AgXP29owif_b",
        "colab_type": "text"
      },
      "source": [
        "####How It Works\n",
        "In this program, we are still playing the guessing game, but the advantage\n",
        "is that the user is allowed to keep guessing until he guesses correctly - there is no need\n",
        "to repeatedly run the program for each guess, as we have done in the previous section.\n",
        "This aptly demonstrates the use of the `while` statement.\n",
        "\n",
        "We move the `input` and `if` statements to inside the `while` loop and set\n",
        "the variable `running` to `True` before the while loop. First, we check if the variable\n",
        "`running` is `True` and then proceed to execute the corresponding **while-block**.\n",
        "After this block is executed, the condition is again checked which in this case is the\n",
        "`running` variable. If it is true, we execute the while-block again, else we continue to\n",
        "execute the optional else-block and then continue to the next statement.\n",
        "\n",
        "The `else` block is executed when the `while` loop condition becomes `False` - this\n",
        "may even be the first time that the condition is checked. If there is an `else` clause for\n",
        "a `while` loop, it is always executed unless you break out of the loop with a `break`\n",
        "statement.\n",
        "\n",
        "The `True` and `False` are called Boolean types and you can consider them to be\n",
        "equivalent to the value `1` and `0` respectively."
      ]
    }
  ]
}