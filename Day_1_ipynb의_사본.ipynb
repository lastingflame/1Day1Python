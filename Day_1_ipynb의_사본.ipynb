{
  "nbformat": 4,
  "nbformat_minor": 0,
  "metadata": {
    "colab": {
      "name": "Day_1.ipynb의 사본",
      "provenance": [],
      "collapsed_sections": [],
      "include_colab_link": true
    },
    "kernelspec": {
      "name": "python3",
      "display_name": "Python 3"
    }
  },
  "cells": [
    {
      "cell_type": "markdown",
      "metadata": {
        "id": "view-in-github",
        "colab_type": "text"
      },
      "source": [
        "<a href=\"https://colab.research.google.com/github/lastingflame/Python_day_1/blob/master/Day_1_ipynb%EC%9D%98_%EC%82%AC%EB%B3%B8.ipynb\" target=\"_parent\"><img src=\"https://colab.research.google.com/assets/colab-badge.svg\" alt=\"Open In Colab\"/></a>"
      ]
    },
    {
      "cell_type": "code",
      "metadata": {
        "id": "pAT22LwfB2HW",
        "colab_type": "code",
        "outputId": "a9c06798-c6c5-46f0-b670-0c14ea4371d6",
        "colab": {
          "base_uri": "https://localhost:8080/",
          "height": 35
        }
      },
      "source": [
        "print('hello world')"
      ],
      "execution_count": 0,
      "outputs": [
        {
          "output_type": "stream",
          "text": [
            "hello world\n"
          ],
          "name": "stdout"
        }
      ]
    },
    {
      "cell_type": "markdown",
      "metadata": {
        "id": "JTxYDoS3JY1t",
        "colab_type": "text"
      },
      "source": [
        "## 리터럴 상수"
      ]
    },
    {
      "cell_type": "markdown",
      "metadata": {
        "id": "YTcj3k0hJfBi",
        "colab_type": "text"
      },
      "source": [
        "리터럴 상수는 `5`, `1.23`과 같은 숫자나, `'This is a string'` 혹은 `\"It’s a string!\"` 과 같은 문자의 나열을 말합니다.\n",
        "이것들이 리터럴 상수라고 불리우는 이유는 이것들이 프로그램 내에 직접 문자 형태로(literally) 지정되는 값들이기 때문입니다. 이러한 값들은 한 번 지정되면 변하지 않습니다. 예를 들면 숫자 `2`는 언제나 자기 자신이 2라는 숫자임을 나타내며 어떤 다른 의미도 갖지 않습니다. 이들은 한번 지정되면 그 값을 변경할 수 없기 때문에 *상수*입니다. 특별히 이러한 값들을 리터럴 상수라고 부릅니다."
      ]
    },
    {
      "cell_type": "markdown",
      "metadata": {
        "id": "8ObmYYZ7JkHV",
        "colab_type": "text"
      },
      "source": [
        "## 숫자형"
      ]
    },
    {
      "cell_type": "markdown",
      "metadata": {
        "id": "L63agVsZJmPm",
        "colab_type": "text"
      },
      "source": [
        "숫자형에는 정수형(Integer)과 부동 소수점 숫자형(Float)의 두 가지 종류가 있습니다.\n",
        "정수형 숫자의 예는 2입니다. 이것은 단순히 `2`라는 숫자를 의미하는 것입니다. 부동 소수점 숫자의 예는 `3.23`, `52.3E-4`와 같은 값입니다. `E` 표기법은 `E` 뒤의 값이 10의 지수임을 나타냅니다. 예를 들어 `52.3E-4`는 `52.3 * 10^-4^`라는 값을 의미합니다.\n"
      ]
    },
    {
      "cell_type": "markdown",
      "metadata": {
        "id": "kq1M3ewEMH_I",
        "colab_type": "text"
      },
      "source": [
        "> 숙련된 프로그래머들을 위한 주석\n",
        " >\n",
        "> 파이썬에서는 `long`형이 따로 없습니다. 대신 `int`형에 어떤 크기의 정수든지 담을 수 있습니다."
      ]
    },
    {
      "cell_type": "markdown",
      "metadata": {
        "id": "UcL2P0OoMvWZ",
        "colab_type": "text"
      },
      "source": [
        "## 문자열"
      ]
    },
    {
      "cell_type": "markdown",
      "metadata": {
        "id": "sEtO_OGSMzB2",
        "colab_type": "text"
      },
      "source": [
        "문자열이란 *문자*의 *나열*을 뜻합니다. 문자열은 간단하게 말하자면 문자들의 집합입니다. 여러분은 아마 앞으로 작성하게 될 거의 모든 파이썬 프로그램에서 문자열을 사용하게 될 것입니다. 따라서 아래 항목들을 주의깊게 살펴보세요."
      ]
    },
    {
      "cell_type": "markdown",
      "metadata": {
        "id": "qahE2vlCM53z",
        "colab_type": "text"
      },
      "source": [
        "### 작은 따옴표"
      ]
    },
    {
      "cell_type": "markdown",
      "metadata": {
        "id": "e-N55kHDMwqh",
        "colab_type": "text"
      },
      "source": [
        "문자들을 작은 따옴표로 묶어서 이것이 문자열임을 표현할 수 있습니다. 예를 들어 `'Quote me on this'`와 같이 하면 됩니다. 작은 따옴표 안쪽의 모든 공백 문자, 즉 띄어쓰기나 탭 등은 입력한 그대로 유지됩니다."
      ]
    },
    {
      "cell_type": "markdown",
      "metadata": {
        "id": "MQxWpDKHOFK4",
        "colab_type": "text"
      },
      "source": [
        "### 큰 따옴표\n",
        "\n",
        "문자열을 큰 따옴표로 묶어서 표현해도 되는데, 이때 큰 따옴표로 둘러싸인 문자열은 작은 따옴표로 둘러싸인 문자열과 동일하게 취급됩니다. 예를 들면, `\"What's your name?\"`과 같습니다. (큰 따옴표로 둘러싸인 문자열 안에 작은 따옴표가 포함되어도 됩니다)."
      ]
    },
    {
      "cell_type": "markdown",
      "metadata": {
        "id": "7G4lz0_2B4nH",
        "colab_type": "text"
      },
      "source": [
        "### 따옴표 세 개 \n",
        "\n",
        "여러 줄에 걸친 문자열은 세 개의 따옴표로 묶어서 표현할 수 있습니다 - (`\"\"\"` 또는 `'''`). 세 개의 따옴표로 묶여진 문자열 안에서는 작은 따옴표든 큰 따옴표든 마음대로 사용할 수 있습니다. 예를 들면 다음과 같습니다."
      ]
    },
    {
      "cell_type": "code",
      "metadata": {
        "id": "-ZMKCc_0Oc5J",
        "colab_type": "code",
        "colab": {}
      },
      "source": [
        "'''This is a multi-line string. This is the first line.\n",
        "This is the second line.\n",
        "\"What's your name?,\" I asked.\n",
        "He said \"Bond, James Bond.\"\n",
        "'''"
      ],
      "execution_count": 0,
      "outputs": []
    },
    {
      "cell_type": "markdown",
      "metadata": {
        "id": "0v-1-2wUOeeq",
        "colab_type": "text"
      },
      "source": [
        "### 문자열은 수정이 불가능함\n",
        "여러분이 문자열을 한 번 만들면, 그 문자열의 내용은 더 이상 변경할 수 없습니다. 좀 불편할 수도 있다고 생각할 수도 있겠습니다만, 사실은 그렇지 않습니다. 책의 뒷부분에서 여러 프로그램 예시를 통해 왜 이것이 큰 제약이 아닌지 살펴볼 것입니다.\n",
        "\n",
        "> C/C++ 프로그래머들을 위한 주석\n",
        ">\n",
        "> 파이썬에서는 `char`형이 따로 구분되어 있지 않습니다. 파이썬에서는 이것이 딱히 필요가 없습니다. 곧 여러분도 char 형을 찾지 않게 될 것입니다.\n",
        "\n",
        ">Perl/PHP 프로그래머들을 위한 주석\n",
        ">\n",
        ">파이썬에서는 작은 따옴표나 큰 따옴표로 묶인 문자열을 동일하게 취급합니다. 둘 사이에 어떤 차이도 없습니다."
      ]
    },
    {
      "cell_type": "markdown",
      "metadata": {
        "id": "Dtpl-UOuOxyg",
        "colab_type": "text"
      },
      "source": [
        "### 문자열 포맷팅\n",
        "\n",
        "문자열을 생성하려고 할 때, 종종 다른 정보들을 포함하여 생성하고 싶을 때가 있습니다. 이것을 문자열 포맷팅이라고 하며, 이를 위해 `format()`을 이용합니다.\n",
        "\n",
        " 다음을 str_format.py 라는 이름으로 저장하세요."
      ]
    },
    {
      "cell_type": "code",
      "metadata": {
        "id": "WEMREnJLO80q",
        "colab_type": "code",
        "outputId": "d908d012-939b-40e8-a193-0e53078b93db",
        "colab": {
          "base_uri": "https://localhost:8080/",
          "height": 53
        }
      },
      "source": [
        "age = 20\n",
        "name = 'Eric'\n",
        "\n",
        "print('{0} was {1} years old whtn he wrote this book'.format(name, age))\n",
        "print('Why is {0} playing with that python?'.format(name))"
      ],
      "execution_count": 0,
      "outputs": [
        {
          "output_type": "stream",
          "text": [
            "Eric was 20 years old whtn he wrote this book\n",
            "Why is Eric playing with that python?\n"
          ],
          "name": "stdout"
        }
      ]
    },
    {
      "cell_type": "markdown",
      "metadata": {
        "id": "JBaRUTAGO6dt",
        "colab_type": "text"
      },
      "source": [
        "#### 동작원리\n",
        "\n",
        "먼저 중괄호로 표현된 특별한 표시들이 포함된 문자열을 만들고, 그 후에 문자열의 `format` 메소드를 사용하여 이 표시들을 `format` 메소드에 주어진 인자들로 치환한 것입니다.\n",
        " \n",
        "\n",
        "위 예시에서는 문자열 내에서 첫번째로 `{0}` 이 사용되었으며 이것은 format 메소드에 주어진 첫번째 인자, 즉 변수 `name`에 해당됩니다. 마찬가지로, 두번째 사용된 표시는 `{1}` 이며 이것은 format 메소드에 주어진 두번째 인자인 `age`에 해당됩니다. 파이썬은 숫자를 셀 때 항상 0 부터 세기 시작한다는 점에 유의하세요. 즉, 첫번째 인자의 인덱스는 0 이며, 두번째는 1 입니다.\n",
        " \n",
        " \n",
        "또한 다음과 같이 문자열 더하기를 이용하여 동일한 결과를 얻을 수도 있습니다."
      ]
    },
    {
      "cell_type": "code",
      "metadata": {
        "id": "dsYJAWKiPkbo",
        "colab_type": "code",
        "outputId": "8391bc31-1624-4c69-cad3-1b2ba930b64d",
        "colab": {
          "base_uri": "https://localhost:8080/",
          "height": 35
        }
      },
      "source": [
        "name + ' is ' + str(age) + ' years old'"
      ],
      "execution_count": 0,
      "outputs": [
        {
          "output_type": "execute_result",
          "data": {
            "text/plain": [
              "'Eric is 20 years old'"
            ]
          },
          "metadata": {
            "tags": []
          },
          "execution_count": 3
        }
      ]
    },
    {
      "cell_type": "markdown",
      "metadata": {
        "id": "SErcNsGVPtxg",
        "colab_type": "text"
      },
      "source": [
        "그러나 이것은 척 보기에도 깔끔하지 못하며, 작성 중 실수하기도 쉽습니다. 또 이 경우 숫자 변수를 str 함수를 써서 일일이 명시적으로 문자열로 변환해주어야 하지만, `format` 메소드를 이용할 경우에는 이를 알아서 자동으로 변환해 줍니다. 또 `format` 메소드를 이용할 경우 변수들을 신경쓰지 않고 문자열의 내용을 수정하기 쉬우며, 문자열에 신경쓰지 않고도 변수의 위치나 순서 등을 변경하기가 더 쉽습니다.\n",
        "\n",
        "\n",
        "중괄호 안에 주어진 숫자는 생략할 수 있습니다. 다음 예제를 확인하세요."
      ]
    },
    {
      "cell_type": "code",
      "metadata": {
        "id": "pznepR2gP4NK",
        "colab_type": "code",
        "outputId": "4f78daa0-81c2-450f-a37f-57525279d363",
        "colab": {
          "base_uri": "https://localhost:8080/",
          "height": 53
        }
      },
      "source": [
        "age = 20\n",
        "name = 'Swaroop'\n",
        "\n",
        "print('{} was {} years old when he wrote this book'.format(name, age))\n",
        "print('Why is {} playing with that python?'.format(name))"
      ],
      "execution_count": 0,
      "outputs": [
        {
          "output_type": "stream",
          "text": [
            "Swaroop was 20 years old when he wrote this book\n",
            "Why is Swaroop playing with that python?\n"
          ],
          "name": "stdout"
        }
      ]
    },
    {
      "cell_type": "markdown",
      "metadata": {
        "id": "J5yNbuPeP3rU",
        "colab_type": "text"
      },
      "source": [
        "위 프로그램 또한 동일한 결과를 출력합니다.\n",
        "\n",
        "파이썬의 `format`은 중괄호 표시의 위치에 주어진 인자들의 값을 치환해 넣습니다. 이때, 중괄호 표시에 다음과 같이 좀 더 상세히 세부사항을 지정할 수도 있습니다."
      ]
    },
    {
      "cell_type": "code",
      "metadata": {
        "id": "rwVDZgqoQAGa",
        "colab_type": "code",
        "outputId": "6455dead-4576-449d-f358-54ec96f64839",
        "colab": {
          "base_uri": "https://localhost:8080/",
          "height": 71
        }
      },
      "source": [
        "# 소수점 이하 셋째 자리까지 부동 소숫점 숫자 표기 (0.333)\n",
        "print('{0:.3f}'.format(1.0/3))\n",
        "# 밑줄(_)로 11칸을 채우고 가운데 정렬(^)하기 (___hello___)\n",
        "print('{0:_^11}'.format('hello'))\n",
        "# 사용자 지정 키워드를 이용해 문자열 표기\n",
        "print('{name} wrote {book}'.format(name = 'Eric', book = 'A byte of Python'))"
      ],
      "execution_count": 0,
      "outputs": [
        {
          "output_type": "stream",
          "text": [
            "0.333\n",
            "___hello___\n",
            "Eric wrote A byte of Python\n"
          ],
          "name": "stdout"
        }
      ]
    },
    {
      "cell_type": "markdown",
      "metadata": {
        "id": "FIPJhfIpQ958",
        "colab_type": "text"
      },
      "source": [
        "지금까지 문자열 포맷팅에 대해 알아보았습니다. 여기서 `print` 명령은 언제나 주어진 문자열의 끝에 \"줄바꿈\" 문자 (`\\n`) 을 덧붙인다는 것 또한 기억하세요. 따라서 `print` 명령을 호출할 때마다 그 다음에 호출한 print 명령의 내용은 항상 그 다음 줄에 출력됩니다. 이것을 막기 위해서는 `print` 함수의 인자 `end`를 공백으로 지정하면 됩니다."
      ]
    },
    {
      "cell_type": "code",
      "metadata": {
        "id": "L_76DFzAQ9o_",
        "colab_type": "code",
        "outputId": "2c822940-7d01-4558-9adf-d383bdbc5c4c",
        "colab": {
          "base_uri": "https://localhost:8080/",
          "height": 35
        }
      },
      "source": [
        "print('a', end = '')\n",
        "print('b', end = '')"
      ],
      "execution_count": 0,
      "outputs": [
        {
          "output_type": "stream",
          "text": [
            "ab"
          ],
          "name": "stdout"
        }
      ]
    },
    {
      "cell_type": "markdown",
      "metadata": {
        "id": "kV9VMGP5RaHo",
        "colab_type": "text"
      },
      "source": [
        "또는 `end`를 한 칸 공백으로 지정하면 다음과 같이 됩니다."
      ]
    },
    {
      "cell_type": "code",
      "metadata": {
        "id": "DT8xgoRERcT6",
        "colab_type": "code",
        "outputId": "5c006ebb-9dcb-4207-e9d3-c60f4c769402",
        "colab": {
          "base_uri": "https://localhost:8080/",
          "height": 35
        }
      },
      "source": [
        "print('a', end = ' ')\n",
        "print('b', end = ' ')\n",
        "print('c')"
      ],
      "execution_count": 0,
      "outputs": [
        {
          "output_type": "stream",
          "text": [
            "a b c\n"
          ],
          "name": "stdout"
        }
      ]
    },
    {
      "cell_type": "markdown",
      "metadata": {
        "id": "kTcAWmXORkaW",
        "colab_type": "text"
      },
      "source": [
        "### 이스케이프(Escape) 문자\n",
        "\n",
        "여러분이 작은 따옴표(`'`)를 포함하고 있는 문자열을 정의하고 싶다고 해 봅시다. 이 경우 어떻게 이 문자열을 정의하면 될까요? 예를 들면 `\"What's your name?\"` 과 같은 문자열을 정의하는 것입니다. 물론 큰 따옴표를 써서 `\"What's your name?\"`이라고 하면 되겠지만, `'What's your name?'`과 같이 작은 따옴표를 사용하기는 어렵습니다. 왜냐면 이 경우 문자열의 시작과 끝이 어디부터 어디까지인지 모호해지기 때문이죠. 따라서 우리는 문자열 안에 포함된 작은 따옴표가 문자열의 끝을 의미하는 작은 따옴표가 아니라는 것을 파이썬에게 알려줘야 합니다. 이것은 이스케이프 문자라 불리우는 것을 이용하면 해결할 수 있습니다. 사용법은 작은 따옴표 앞에 `\\` 문자(enter 키 위에 있습니다)를 붙여 `\\'` 와 같은 방식으로 표기하면 됩니다. 이를 이용하면, 위의 문자열은 `'What\\'s your name?'` 과 같이 표기할 수 있습니다.\n",
        "\n",
        "\n",
        "마찬가지로, 큰 따옴표로 지정된 문자열 안에 포함된 큰 따옴표도 마찬가지로 이스케이프 문자를 이용하여 표기할 수 있습니다. 문자열 안에 `\\` 문자를 표기하고 싶을 경우에는 `\\\\` 라 표기하면 됩니다.\n",
        "\n",
        "\n",
        "한편 두 줄에 걸친 문자열을 정의하고 싶을 경우 어떻게 하면 될까요? 한가지 방법은 위에서 다루었듯이 따옴표 세 개로 문자열을 정의할 수 있고, 또 다른 방법은 이스케이프 문자를 활용하여 줄바꿈 문자 (newline character) `\\n` 로 줄바꿈을 표현할 수도 있습니다. 다음 예제를 확인하세요."
      ]
    },
    {
      "cell_type": "code",
      "metadata": {
        "id": "7VQdqxPpR7oJ",
        "colab_type": "code",
        "outputId": "bbad125f-23a6-42b1-cef0-1c3291f7ad8e",
        "colab": {
          "base_uri": "https://localhost:8080/",
          "height": 35
        }
      },
      "source": [
        "'This is the first line\\nThis is the second line'"
      ],
      "execution_count": 0,
      "outputs": [
        {
          "output_type": "execute_result",
          "data": {
            "text/plain": [
              "'This is the first line\\nThis is the second line'"
            ]
          },
          "metadata": {
            "tags": []
          },
          "execution_count": 9
        }
      ]
    },
    {
      "cell_type": "markdown",
      "metadata": {
        "id": "i-JESlTXR67d",
        "colab_type": "text"
      },
      "source": [
        "또 한가지 유용한 이스케이프 문자는 `\\t`로 표현되는 탭 문자입니다. 이외에도 여러가지 이스케이프 문자를 이용한 유용한 다른 표기들이 있지만, 일단은 가장 유용하게 쓰이는 것 몇 가지만 알려 드리겠습니다.\n",
        "\n",
        "\n",
        "문자열을 정의할 때 줄의 끝에  문자를 붙여 주면, 그 다음 줄에 정의된 문자열을 끊김없이 이어 붙여 문자열을 정의하게 됩니다. 예를 들면 다음과 같습니다."
      ]
    },
    {
      "cell_type": "code",
      "metadata": {
        "id": "_fGtvHubSUuR",
        "colab_type": "code",
        "outputId": "8b48e6a6-579d-4628-faac-dd86a3ce3387",
        "colab": {
          "base_uri": "https://localhost:8080/",
          "height": 35
        }
      },
      "source": [
        "\"This is the first sentence. \\\n",
        "This is the second sentence.\""
      ],
      "execution_count": 0,
      "outputs": [
        {
          "output_type": "execute_result",
          "data": {
            "text/plain": [
              "'This is the first sentence. This is the second sentence.'"
            ]
          },
          "metadata": {
            "tags": []
          },
          "execution_count": 10
        }
      ]
    },
    {
      "cell_type": "markdown",
      "metadata": {
        "id": "zXbHnofPSZCz",
        "colab_type": "text"
      },
      "source": [
        "### 순 문자열(Raw String)\n",
        "\n",
        "문자열 내에 포함된 이스케이프 문자 등을 처리하지 않고 그대로 출력하고 싶을 때, 문자열 앞에 `r` 또는 `R` 문자를 붙여 순 문자열임을 표기합니다. 다음 예제를 확인하세요."
      ]
    },
    {
      "cell_type": "code",
      "metadata": {
        "id": "t-usnBbgSo3y",
        "colab_type": "code",
        "outputId": "d6399601-e462-4608-e81c-bceb5809bc33",
        "colab": {
          "base_uri": "https://localhost:8080/",
          "height": 35
        }
      },
      "source": [
        "r\"Newlines are indicated by \\n\""
      ],
      "execution_count": 0,
      "outputs": [
        {
          "output_type": "execute_result",
          "data": {
            "text/plain": [
              "'Newlines are indicated by \\\\n'"
            ]
          },
          "metadata": {
            "tags": []
          },
          "execution_count": 11
        }
      ]
    },
    {
      "cell_type": "markdown",
      "metadata": {
        "id": "SdgUpW56S0m0",
        "colab_type": "text"
      },
      "source": [
        "> 정규 표현식 사용자를 위한 주석\n",
        ">\n",
        ">정규 표현식을 사용할 때는 항상 순 문자열을 사용하세요. 그렇지 않으면 문자열 내에 이스케이프 문자가 너무 많아져 알아볼 수 없게 될지도 모릅니다. 순 문자열을 사용하면, `'\\\\1'` 을 `r'\\1'`로 짧게 표기가 가능합니다."
      ]
    },
    {
      "cell_type": "markdown",
      "metadata": {
        "id": "CfvMDl4bTLQK",
        "colab_type": "text"
      },
      "source": [
        "## 변수\n",
        "\n",
        "리터럴 상수만 사용하여 프로그램을 작성할 수는 없습니다. 뭔가 정보를 담고, 수정할 수 있는 어떤 공간이 필요할 것입니다. 즉, *변수*를 이용하는 것이 좋습니다. 변수는 이름 그대로 변할 수 있는 공간을 말하며, 여기에는 무엇이든 저장할 수 있습니다. 변수들은 단순히 정보를 저장할 때 사용되는 컴퓨터 내부의 기억 장치의 작은 부분을 가져다가 적당한 이름을 붙여 사용하는 것입니다. 리터럴 상수와는 달리, 변수들은 프로그램 내에서 여러 방법을 통해 변경되고 사용되기 때문에 한눈에 알아보기 쉬운 이름을 지어 줍시다."
      ]
    },
    {
      "cell_type": "markdown",
      "metadata": {
        "id": "Y2kSpmRCTULV",
        "colab_type": "text"
      },
      "source": [
        "## 식별자\n",
        "\n",
        "변수 이름은 식별자의 한 예입니다. 식별자란 무언가를 식별하기 위해 주어진 그것의 이름을 말합니다. 식별자를 짓는데는 다음과 같은 규칙이 있습니다.\n",
        "\n",
        "* 식별자의 첫 문자는 알파벳 문자 (ASCII 대/소문자 혹은 유니코드 문자)이거나 밑줄 (`_`) 이어야 합니다.\n",
        "* 나머지는 문자 (ASCII 대/소문자 혹은 유니코드 문자), 밑줄 (`_`), 또는 숫자 (0-9)가 될 수 있습니다.\n",
        "* 식별자는 대/소문자를 구분합니다. 예를 들어, `myname`과`myName`은 다릅니다. 전자의 `n`은 소문자이고, 후자의 `N`은 대문자입니다.\n",
        "* 올바른 식별자 이름은 `i`, `name_2_3` 등과 같습니다. 올바르지 않은 식별자 이름은 `2things`, `this is spaced out`, `my-name`, `>a1b2_c3` 등입니다."
      ]
    },
    {
      "cell_type": "markdown",
      "metadata": {
        "id": "20sZAgihTycT",
        "colab_type": "text"
      },
      "source": [
        "## 자료형\n",
        "\n",
        "변수는 여러 가지 `자료형`의 값을 담을 수 있습니다. 가장 간단한 자료형의 예는 앞에서 이야기한 숫자형과 문자열입니다. 뒷장에서, 클래스를 이용한 사용자 정의 자료형을 만드는 법 또한 배우게 될 것입니다."
      ]
    },
    {
      "cell_type": "markdown",
      "metadata": {
        "id": "s_VnQwoHT4wi",
        "colab_type": "text"
      },
      "source": [
        "## 객체\n",
        "\n",
        "파이썬에서 사용되는 모든 것은 *객체(object)*입니다. *그것(the something)*라고 표현하는 대신, \" *그 객체(the object)*\" 라고 말합니다.\n",
        "\n",
        "> 객체 지향 프로그래머들을 위한 주석:\n",
        "> 파이썬은 강력한 객체 지향 언어로써 숫자, 문자, 함수 등등 모든 것을 객체로 취급합니다.\n",
        "\n",
        "이제 리터럴 상수들과 함께 변수를 사용하는 방법을 알아보도록 하겠습니다. 다음 예제를 저장한 후 실행하여 봅시다."
      ]
    },
    {
      "cell_type": "markdown",
      "metadata": {
        "id": "4B2IPRr0UPLm",
        "colab_type": "text"
      },
      "source": [
        "### 예제: 변수와 리터럴 상수 사용하기"
      ]
    },
    {
      "cell_type": "code",
      "metadata": {
        "id": "XmWC3hyvUJfJ",
        "colab_type": "code",
        "outputId": "38d7444d-2772-46e6-ca3d-a1280f93c6fe",
        "colab": {
          "base_uri": "https://localhost:8080/",
          "height": 89
        }
      },
      "source": [
        "# Filename : var.py\n",
        "i = 5\n",
        "print(i)\n",
        "i = i+ 1\n",
        "print(i)\n",
        "\n",
        "s = '''This is a multi-line string.\n",
        "This is the second line.'''\n",
        "print(s)"
      ],
      "execution_count": 0,
      "outputs": [
        {
          "output_type": "stream",
          "text": [
            "5\n",
            "6\n",
            "This is a multi-line string.\n",
            "This is the second line.\n"
          ],
          "name": "stdout"
        }
      ]
    },
    {
      "cell_type": "markdown",
      "metadata": {
        "id": "-1bmjC7AUckK",
        "colab_type": "text"
      },
      "source": [
        "#### 동작 원리\n",
        "\n",
        "위 프로그램의 동작 원리는 다음과 같습니다. 먼저, 리터럴 상수 `5`를 변수 `i`에 할당 연산자 (`=`)를 이용하여 할당하였습니다. 이러한 한 줄을 명령(statement)이라고 부르는데, 이 경우 변수명 `i`에 값 `5`를 할당하였기 때문입니다. 다음으로, `i`에 할당된 값을 `print` 명령을 이용하여 출력합니다. 그러면 변수에 지정된 값이 화면에 나타납니다.\n",
        "\n",
        "그리고 `i`에 할당된 값에 `1`을 더한 후 그 값을 다시 변수에 할당합니다. 이제 이 값을 출력하면, 예상대로, `6`이라는 값이 출력됨을 알 수 있습니다.\n",
        "\n",
        "리터럴 문자열 상수 또한 앞에서 설명한 과정과 동일한 과정을 거쳐 변수 `s`에 저장된 후 화면에 출력됩니다.\n",
        "\n",
        ">정적 언어 프로그래들을 위한 주석\n",
        ">\n",
        ">파이썬에서는 변수에 값을 할당함으로써 자동으로 해당 변수가 생성되며 곧바로 사용할 수 있습니다. 따로 변수의 자료형을 지정할 필요도 없고, 미리 변수를 선언할 필요도 없습니다."
      ]
    },
    {
      "cell_type": "markdown",
      "metadata": {
        "id": "q97tn2_JUwyi",
        "colab_type": "text"
      },
      "source": [
        "## 논리적/물리적 명령행\n",
        "\n",
        "물리적 명령행이란 프로그램 코드 내에 직접 표현된 한 줄을 의미하는 반면, 논리적 명령행은 *파이썬 인터프리터 관점*에서의 한 명령 단위를 의미합니다. 파이썬은 각각의 물리적 명령행이 곧 논리적 명령행일 것이라고 내부적으로 간주하고 프로그램을 실행합니다.\n",
        "\n",
        "논리적 명령행이란 예를 들면 `print 'hello world'` 같은 것입니다. 만약 이것이 실제 코드 상으로도 한 줄로 표현되어 있다면 (편집기에서 보이는 그대로를 말합니다), 이 한 줄은 물리적 명령행이라고도 말할 수 있을 것입니다.\n",
        "\n",
        "일반적으로 파이썬으로 프로그래밍할 경우, 한 명령을 한 행에 적어 전체적인 코드를 파악하기 쉽게 작성하기를 권합니다.\n",
        "\n",
        "만약 여러분이 한 물리적 명령행에 둘 이상의 논리적 명령행을 넣고 싶다면, 세미콜론 (`;`)을 이용하여 논리적 명령행의 끝을 명시적으로 파이썬 인터프리터에게 알려줄 수 있습니다. 다음 예제를 확인하세요."
      ]
    },
    {
      "cell_type": "code",
      "metadata": {
        "id": "hxYG5BDDVB1m",
        "colab_type": "code",
        "colab": {}
      },
      "source": [
        "i = 5\n",
        "print(i)"
      ],
      "execution_count": 0,
      "outputs": []
    },
    {
      "cell_type": "code",
      "metadata": {
        "id": "qgnS8iF0VFfC",
        "colab_type": "code",
        "colab": {}
      },
      "source": [
        "i = 5;\n",
        "print(i);"
      ],
      "execution_count": 0,
      "outputs": []
    },
    {
      "cell_type": "code",
      "metadata": {
        "id": "iA6tj1DkVKgf",
        "colab_type": "code",
        "colab": {}
      },
      "source": [
        "i = 5; print(i);"
      ],
      "execution_count": 0,
      "outputs": []
    },
    {
      "cell_type": "code",
      "metadata": {
        "id": "IdPVIH92VNMl",
        "colab_type": "code",
        "colab": {}
      },
      "source": [
        "i = 5; print(i)"
      ],
      "execution_count": 0,
      "outputs": []
    },
    {
      "cell_type": "markdown",
      "metadata": {
        "id": "zaUoMAryVQyj",
        "colab_type": "text"
      },
      "source": [
        "하지만, 저는 여러분이 한 물리적 명령행에 두 개 이상의 논리적 명령행을 사용하지 말 것을 *강력히 추천합니다*. 즉, 세미콜론을 사용하지 말아 주세요. 사실, 저는 파이썬 프로그램을 작성할 때 세미콜론을 한번도 사용해 본 적이 없고, 또 다른 사람이 사용하는 것을 본 적도 없습니다.\n",
        "\n",
        "한 명령행이 너무 길어서 보기가 불편한 경우, 백슬래시 문자(`\\`)를 이용하여 한 논리적 명령행을 여러 물리적 명령행으로 나눌 수 있습니다. 이를 *명시적 행간 결합*이라 부릅니다."
      ]
    },
    {
      "cell_type": "code",
      "metadata": {
        "id": "pg5EewjnWCY9",
        "colab_type": "code",
        "outputId": "42c1ccad-bb67-440a-9857-d1bab7425cd1",
        "colab": {
          "base_uri": "https://localhost:8080/",
          "height": 35
        }
      },
      "source": [
        "s = 'This is a string. \\\n",
        "This continues the string.'\n",
        "print(s)"
      ],
      "execution_count": 0,
      "outputs": [
        {
          "output_type": "stream",
          "text": [
            "This is a string. This continues the string.\n"
          ],
          "name": "stdout"
        }
      ]
    },
    {
      "cell_type": "code",
      "metadata": {
        "id": "FyYPxlaXWKCV",
        "colab_type": "code",
        "colab": {}
      },
      "source": [
        "i = \\\n",
        "5"
      ],
      "execution_count": 0,
      "outputs": []
    },
    {
      "cell_type": "markdown",
      "metadata": {
        "id": "VagObC_DWOHR",
        "colab_type": "text"
      },
      "source": [
        "가끔, 백슬래시 없이 행간을 합칠 수 있는 경우도 있습니다. 이것은 명령행의 중간에 괄호가 있을 때, 즉 대괄호나 중괄호를 열었을 경우 괄호를 닫을 때까지 백슬래시 없이도 모두 같은 명령행으로 간주됩니다. 이것은 *비명시적 행간 결합(implicit line joining)*이라고 부릅니다. 뒷장에서 리스트를 사용하여 프로그램을 작성할 때 이런 경우를 보게 될 것입니다."
      ]
    },
    {
      "cell_type": "markdown",
      "metadata": {
        "id": "dP6YVhQ1WYDu",
        "colab_type": "text"
      },
      "source": [
        "## 들여쓰기\n",
        "\n",
        "파이썬에서 공백은 중요한 역할을 합니다. 특히, **한 행의 앞에 붙어있는 공백이 정말 중요합니다**. 즉, 파이썬에서는 *들여쓰기*가 매우 중요합니다. 한 논리적 명령행의 앞에 붙어있는 공백 (빈 칸 혹은 탭)은 논리적 명령행의 들여쓰기 단계를 의미하며, 이것은 **한 명령의 범위를 구분하는 데 사용**됩니다.\n",
        "\n",
        "같은 들여쓰기 단계에 있는 명령들은 *반드시* 같은 들여쓰기를 사용해야 합니다. 이러한 같은 들여쓰기를 사용하고 있는 명령들의 집합을 **블록(block)** 이라고 부릅니다. 뒷장에서 예제를 통해 블록에 대해 다루게 될 것입니다.\n",
        "\n",
        "지금 여러분이 기억하셔야 할 것은 잘못된 들여쓰기는 오류를 일으킨다는 것입니다. 다음 예제를 봅시다"
      ]
    },
    {
      "cell_type": "code",
      "metadata": {
        "id": "3zjA48suWNS6",
        "colab_type": "code",
        "outputId": "2be583fc-fe1d-4ed1-c5e9-06ef0a4d6f38",
        "colab": {
          "base_uri": "https://localhost:8080/",
          "height": 136
        }
      },
      "source": [
        "i = 5\n",
        "# 다음 행에서 오류가 발생합니다! 행 앞에 잘못된 공백이 한 칸 있습니다.\n",
        " print('Value is', i)\n",
        "print('I repeat, the value is', i)"
      ],
      "execution_count": 0,
      "outputs": [
        {
          "output_type": "error",
          "ename": "IndentationError",
          "evalue": "ignored",
          "traceback": [
            "\u001b[0;36m  File \u001b[0;32m\"<ipython-input-15-d5110b44109a>\"\u001b[0;36m, line \u001b[0;32m3\u001b[0m\n\u001b[0;31m    print('Value is', i)\u001b[0m\n\u001b[0m    ^\u001b[0m\n\u001b[0;31mIndentationError\u001b[0m\u001b[0;31m:\u001b[0m unexpected indent\n"
          ]
        }
      ]
    },
    {
      "cell_type": "markdown",
      "metadata": {
        "id": "RxwxHaOVWvrk",
        "colab_type": "text"
      },
      "source": [
        "두번째 행 앞에 공백이 한칸 있다는 점을 확인하세요. 위와 같은 오류는 파이썬이 우리에게 프로그램의 문법이 잘못되었음을, 즉 프로그램이 잘못 작성되었다는 것을 알려 주는 것입니다. 이 오류가 의미하는 것은 여러분이 임의로 새 블록을 시작할 수 없음 을 의미합니다. 새 블록을 시작할 수 있는 경우에 대해 흐름 제어(control flow)에서 다루게 될 것입니다.\n",
        "\n",
        ">들여쓰기 하는 법\n",
        ">\n",
        ">들여쓰기를 할 때에는 한번에 공백 4개를 이용하세요. 이것은 파이썬 언어에서 공식적으로 추천하는 방법입니다. 좋은 편집기들은 이 사항을 자동으로 준수합니다. 또, 들여쓰기를 할 때에는 항상 같은 개수의 공백을 사용해야 한다는 점에 유의하시기 바랍니다.\n",
        ">\n",
        ">정적 언어 프로그래머들을 위한 주석\n",
        ">\n",
        ">파이썬은 블록 구분을 위해 들여쓰기를 사용하며, 중괄호를 사용하지 않습니다. 파이썬에서 from `__future__ import braces` 명령을 실행하여 자세한 사항을 확인하세요."
      ]
    },
    {
      "cell_type": "markdown",
      "metadata": {
        "id": "-7VzeW5mXApP",
        "colab_type": "text"
      },
      "source": [
        "## 요약\n",
        "\n",
        "지금까지 파이썬의 여러 기본적인 특징에 대해 배워보았습니다. 이제 흐름 제어와 같이 좀 더 재미있는 부분에 대해 배워 보도록 하겠습니다. 다음 장으로 넘어가기 전, 이 장에서 배운 내용에 대해 미리 익숙해져 두기를 바랍니다. 2020/05/06"
      ]
    }
  ]
}